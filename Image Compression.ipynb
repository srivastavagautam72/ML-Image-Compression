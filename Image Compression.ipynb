{
 "cells": [
  {
   "cell_type": "code",
   "execution_count": 1,
   "metadata": {},
   "outputs": [],
   "source": [
    "from skimage.io import imread"
   ]
  },
  {
   "cell_type": "code",
   "execution_count": 2,
   "metadata": {},
   "outputs": [],
   "source": [
    "img = imread('college.png')"
   ]
  },
  {
   "cell_type": "code",
   "execution_count": 3,
   "metadata": {},
   "outputs": [],
   "source": [
    "import matplotlib.pyplot as plt"
   ]
  },
  {
   "cell_type": "code",
   "execution_count": 4,
   "metadata": {},
   "outputs": [],
   "source": [
    "plt.show()"
   ]
  },
  {
   "cell_type": "code",
   "execution_count": 6,
   "metadata": {},
   "outputs": [
    {
     "data": {
      "text/plain": [
       "<matplotlib.image.AxesImage at 0x85e5590>"
      ]
     },
     "execution_count": 6,
     "metadata": {},
     "output_type": "execute_result"
    },
    {
     "data": {
      "image/png": "[encoded data removed]",
      "text/plain": [
       "<matplotlib.figure.Figure at 0x8628df0>"
      ]
     },
     "metadata": {},
     "output_type": "display_data"
    }
   ],
   "source": [
    "plt.imshow(img)"
   ]
  },
  {
   "cell_type": "code",
   "execution_count": 8,
   "metadata": {},
   "outputs": [],
   "source": [
    "plt.show()"
   ]
  },
  {
   "cell_type": "code",
   "execution_count": 9,
   "metadata": {},
   "outputs": [],
   "source": [
    "img = img/225"
   ]
  },
  {
   "cell_type": "code",
   "execution_count": 10,
   "metadata": {},
   "outputs": [
    {
     "data": {
      "text/plain": [
       "array([[[1.13333333, 1.13333333, 1.13333333, 1.13333333],\n",
       "        [1.13333333, 1.13333333, 1.13333333, 1.13333333],\n",
       "        [1.13333333, 1.13333333, 1.13333333, 1.13333333],\n",
       "        ...,\n",
       "        [1.13333333, 1.13333333, 1.13333333, 1.13333333],\n",
       "        [1.13333333, 1.13333333, 1.13333333, 1.13333333],\n",
       "        [1.13333333, 1.13333333, 1.13333333, 1.13333333]],\n",
       "\n",
       "       [[1.13333333, 1.13333333, 1.13333333, 1.13333333],\n",
       "        [1.13333333, 1.13333333, 1.13333333, 1.13333333],\n",
       "        [1.13333333, 1.13333333, 1.13333333, 1.13333333],\n",
       "        ...,\n",
       "        [1.13333333, 1.13333333, 1.13333333, 1.13333333],\n",
       "        [1.13333333, 1.13333333, 1.13333333, 1.13333333],\n",
       "        [1.13333333, 1.13333333, 1.13333333, 1.13333333]],\n",
       "\n",
       "       [[1.13333333, 1.13333333, 1.13333333, 1.13333333],\n",
       "        [1.13333333, 1.13333333, 1.13333333, 1.13333333],\n",
       "        [1.13333333, 1.13333333, 1.13333333, 1.13333333],\n",
       "        ...,\n",
       "        [1.13333333, 1.13333333, 1.13333333, 1.13333333],\n",
       "        [1.13333333, 1.13333333, 1.13333333, 1.13333333],\n",
       "        [1.13333333, 1.13333333, 1.13333333, 1.13333333]],\n",
       "\n",
       "       ...,\n",
       "\n",
       "       [[1.13333333, 1.13333333, 1.13333333, 1.13333333],\n",
       "        [1.13333333, 1.13333333, 1.13333333, 1.13333333],\n",
       "        [1.13333333, 1.13333333, 1.13333333, 1.13333333],\n",
       "        ...,\n",
       "        [1.13333333, 1.13333333, 1.13333333, 1.13333333],\n",
       "        [1.13333333, 1.13333333, 1.13333333, 1.13333333],\n",
       "        [1.13333333, 1.13333333, 1.13333333, 1.13333333]],\n",
       "\n",
       "       [[1.13333333, 1.13333333, 1.13333333, 1.13333333],\n",
       "        [1.13333333, 1.13333333, 1.13333333, 1.13333333],\n",
       "        [1.13333333, 1.13333333, 1.13333333, 1.13333333],\n",
       "        ...,\n",
       "        [1.13333333, 1.13333333, 1.13333333, 1.13333333],\n",
       "        [1.13333333, 1.13333333, 1.13333333, 1.13333333],\n",
       "        [1.13333333, 1.13333333, 1.13333333, 1.13333333]],\n",
       "\n",
       "       [[1.13333333, 1.13333333, 1.13333333, 1.13333333],\n",
       "        [1.13333333, 1.13333333, 1.13333333, 1.13333333],\n",
       "        [1.13333333, 1.13333333, 1.13333333, 1.13333333],\n",
       "        ...,\n",
       "        [1.13333333, 1.13333333, 1.13333333, 1.13333333],\n",
       "        [1.13333333, 1.13333333, 1.13333333, 1.13333333],\n",
       "        [1.13333333, 1.13333333, 1.13333333, 1.13333333]]])"
      ]
     },
     "execution_count": 10,
     "metadata": {},
     "output_type": "execute_result"
    }
   ],
   "source": [
    "img"
   ]
  },
  {
   "cell_type": "code",
   "execution_count": 12,
   "metadata": {},
   "outputs": [],
   "source": [
    "from sklearn.cluster import KMeans"
   ]
  },
  {
   "cell_type": "code",
   "execution_count": 14,
   "metadata": {},
   "outputs": [],
   "source": [
    "kmeans = KMeans(n_clusters=3)"
   ]
  },
  {
   "cell_type": "code",
   "execution_count": 16,
   "metadata": {},
   "outputs": [
    {
     "data": {
      "text/plain": [
       "(900, 1600, 4)"
      ]
     },
     "execution_count": 16,
     "metadata": {},
     "output_type": "execute_result"
    }
   ],
   "source": [
    "img.shape"
   ]
  },
  {
   "cell_type": "code",
   "execution_count": 18,
   "metadata": {},
   "outputs": [],
   "source": [
    "img_format = img.reshape(900 * 1600, 4)"
   ]
  },
  {
   "cell_type": "code",
   "execution_count": 19,
   "metadata": {},
   "outputs": [
    {
     "data": {
      "text/plain": [
       "array([[1.13333333, 1.13333333, 1.13333333, 1.13333333],\n",
       "       [1.13333333, 1.13333333, 1.13333333, 1.13333333],\n",
       "       [1.13333333, 1.13333333, 1.13333333, 1.13333333],\n",
       "       ...,\n",
       "       [1.13333333, 1.13333333, 1.13333333, 1.13333333],\n",
       "       [1.13333333, 1.13333333, 1.13333333, 1.13333333],\n",
       "       [1.13333333, 1.13333333, 1.13333333, 1.13333333]])"
      ]
     },
     "execution_count": 19,
     "metadata": {},
     "output_type": "execute_result"
    }
   ],
   "source": [
    "img_format"
   ]
  },
  {
   "cell_type": "code",
   "execution_count": 20,
   "metadata": {},
   "outputs": [
    {
     "data": {
      "text/plain": [
       "KMeans(algorithm='auto', copy_x=True, init='k-means++', max_iter=300,\n",
       "    n_clusters=3, n_init=10, n_jobs=1, precompute_distances='auto',\n",
       "    random_state=None, tol=0.0001, verbose=0)"
      ]
     },
     "execution_count": 20,
     "metadata": {},
     "output_type": "execute_result"
    }
   ],
   "source": [
    "kmeans.fit(img_format)"
   ]
  },
  {
   "cell_type": "code",
   "execution_count": 21,
   "metadata": {},
   "outputs": [],
   "source": [
    "clusters = kmeans.predict(img_format)"
   ]
  },
  {
   "cell_type": "code",
   "execution_count": 22,
   "metadata": {},
   "outputs": [
    {
     "data": {
      "text/plain": [
       "array([0, 0, 0, ..., 0, 0, 0])"
      ]
     },
     "execution_count": 22,
     "metadata": {},
     "output_type": "execute_result"
    }
   ],
   "source": [
    "clusters"
   ]
  },
  {
   "cell_type": "code",
   "execution_count": 23,
   "metadata": {},
   "outputs": [
    {
     "data": {
      "text/plain": [
       "array([[1.13309926, 1.13313717, 1.13308468, 1.13333333],\n",
       "       [0.03460473, 0.39241423, 0.19658565, 1.13333333],\n",
       "       [0.773726  , 0.69653425, 0.46204284, 1.13333333]])"
      ]
     },
     "execution_count": 23,
     "metadata": {},
     "output_type": "execute_result"
    }
   ],
   "source": [
    "kmeans.cluster_centers_"
   ]
  },
  {
   "cell_type": "code",
   "execution_count": 24,
   "metadata": {},
   "outputs": [
    {
     "data": {
      "text/plain": [
       "array([[1.13309926, 1.13313717, 1.13308468, 1.13333333],\n",
       "       [1.13309926, 1.13313717, 1.13308468, 1.13333333]])"
      ]
     },
     "execution_count": 24,
     "metadata": {},
     "output_type": "execute_result"
    }
   ],
   "source": [
    "kmeans.cluster_centers_[[0,0]]"
   ]
  },
  {
   "cell_type": "code",
   "execution_count": 26,
   "metadata": {},
   "outputs": [],
   "source": [
    "img_new = kmeans.cluster_centers_[clusters]\n"
   ]
  },
  {
   "cell_type": "code",
   "execution_count": 28,
   "metadata": {},
   "outputs": [],
   "source": [
    "new_img = img_new.reshape(900, 1600,4)\n"
   ]
  },
  {
   "cell_type": "code",
   "execution_count": 31,
   "metadata": {},
   "outputs": [
    {
     "data": {
      "text/plain": [
       "<matplotlib.image.AxesImage at 0xa72d2b0>"
      ]
     },
     "execution_count": 31,
     "metadata": {},
     "output_type": "execute_result"
    },
    {
     "data": {
      "image/png": "[encoded data removed]",
      "text/plain": [
       "<matplotlib.figure.Figure at 0xa5d39f0>"
      ]
     },
     "metadata": {},
     "output_type": "display_data"
    }
   ],
   "source": [
    "plt.imshow(new_img)"
   ]
  },
  {
   "cell_type": "code",
   "execution_count": 32,
   "metadata": {},
   "outputs": [],
   "source": [
    "plt.show()"
   ]
  },
  {
   "cell_type": "code",
   "execution_count": null,
   "metadata": {},
   "outputs": [],
   "source": []
  }
 ],
 "metadata": {
  "kernelspec": {
   "display_name": "Python 3",
   "language": "python",
   "name": "python3"
  },
  "language_info": {
   "codemirror_mode": {
    "name": "ipython",
    "version": 3
   },
   "file_extension": ".py",
   "mimetype": "text/x-python",
   "name": "python",
   "nbconvert_exporter": "python",
   "pygments_lexer": "ipython3",
   "version": "3.6.4"
  }
 },
 "nbformat": 4,
 "nbformat_minor": 2
}
